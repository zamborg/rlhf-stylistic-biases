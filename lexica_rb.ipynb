{
 "cells": [
  {
   "cell_type": "code",
   "execution_count": 1,
   "metadata": {},
   "outputs": [],
   "source": [
    "%load_ext autoreload\n",
    "%autoreload 2"
   ]
  },
  {
   "cell_type": "code",
   "execution_count": 2,
   "metadata": {},
   "outputs": [],
   "source": [
    "import sys\n",
    "sys.path.append(\"/Users/zubin/Documents/school/research/resources/lexica\")"
   ]
  },
  {
   "cell_type": "code",
   "execution_count": 3,
   "metadata": {},
   "outputs": [],
   "source": [
    "from util import *"
   ]
  },
  {
   "cell_type": "code",
   "execution_count": 26,
   "metadata": {},
   "outputs": [],
   "source": [
    "import pandas as pd"
   ]
  },
  {
   "cell_type": "code",
   "execution_count": 19,
   "metadata": {},
   "outputs": [],
   "source": [
    "from datasets import load_dataset"
   ]
  },
  {
   "cell_type": "code",
   "execution_count": 20,
   "metadata": {},
   "outputs": [
    {
     "data": {
      "application/vnd.jupyter.widget-view+json": {
       "model_id": "621d307f6cd747dba0ed1909d042404f",
       "version_major": 2,
       "version_minor": 0
      },
      "text/plain": [
       "Downloading readme:   0%|          | 0.00/21.1k [00:00<?, ?B/s]"
      ]
     },
     "metadata": {},
     "output_type": "display_data"
    },
    {
     "data": {
      "application/vnd.jupyter.widget-view+json": {
       "model_id": "197781d46c9c4cad8ac4ff084b4bf4a6",
       "version_major": 2,
       "version_minor": 0
      },
      "text/plain": [
       "Downloading data files:   0%|          | 0/2 [00:00<?, ?it/s]"
      ]
     },
     "metadata": {},
     "output_type": "display_data"
    },
    {
     "data": {
      "application/vnd.jupyter.widget-view+json": {
       "model_id": "364abc63558a4bfea6a197ef71b555bd",
       "version_major": 2,
       "version_minor": 0
      },
      "text/plain": [
       "Downloading data:   0%|          | 0.00/5.59M [00:00<?, ?B/s]"
      ]
     },
     "metadata": {},
     "output_type": "display_data"
    },
    {
     "data": {
      "application/vnd.jupyter.widget-view+json": {
       "model_id": "6257f88411104e9093dd34a57f93f034",
       "version_major": 2,
       "version_minor": 0
      },
      "text/plain": [
       "Downloading data:   0%|          | 0.00/2.35M [00:00<?, ?B/s]"
      ]
     },
     "metadata": {},
     "output_type": "display_data"
    },
    {
     "data": {
      "application/vnd.jupyter.widget-view+json": {
       "model_id": "ea29fe0d94ec48e1bab17a930b0da8bc",
       "version_major": 2,
       "version_minor": 0
      },
      "text/plain": [
       "Extracting data files:   0%|          | 0/2 [00:00<?, ?it/s]"
      ]
     },
     "metadata": {},
     "output_type": "display_data"
    },
    {
     "data": {
      "application/vnd.jupyter.widget-view+json": {
       "model_id": "432d75cbc2ba44a0b076067891e0801f",
       "version_major": 2,
       "version_minor": 0
      },
      "text/plain": [
       "Generating raw split:   0%|          | 0/5123 [00:00<?, ? examples/s]"
      ]
     },
     "metadata": {},
     "output_type": "display_data"
    },
    {
     "data": {
      "application/vnd.jupyter.widget-view+json": {
       "model_id": "35416dc0c74b43048c23eaa0361dc335",
       "version_major": 2,
       "version_minor": 0
      },
      "text/plain": [
       "Generating filtered split:   0%|          | 0/2985 [00:00<?, ? examples/s]"
      ]
     },
     "metadata": {},
     "output_type": "display_data"
    }
   ],
   "source": [
    "rb_data = load_dataset(\"allenai/reward-bench\")"
   ]
  },
  {
   "cell_type": "code",
   "execution_count": 27,
   "metadata": {},
   "outputs": [],
   "source": [
    "rb_pandas = rb_data['raw'].to_pandas()"
   ]
  },
  {
   "cell_type": "code",
   "execution_count": 28,
   "metadata": {},
   "outputs": [
    {
     "data": {
      "text/html": [
       "<div>\n",
       "<style scoped>\n",
       "    .dataframe tbody tr th:only-of-type {\n",
       "        vertical-align: middle;\n",
       "    }\n",
       "\n",
       "    .dataframe tbody tr th {\n",
       "        vertical-align: top;\n",
       "    }\n",
       "\n",
       "    .dataframe thead th {\n",
       "        text-align: right;\n",
       "    }\n",
       "</style>\n",
       "<table border=\"1\" class=\"dataframe\">\n",
       "  <thead>\n",
       "    <tr style=\"text-align: right;\">\n",
       "      <th></th>\n",
       "      <th>prompt</th>\n",
       "      <th>chosen</th>\n",
       "      <th>chosen_model</th>\n",
       "      <th>rejected</th>\n",
       "      <th>rejected_model</th>\n",
       "      <th>subset</th>\n",
       "      <th>id</th>\n",
       "    </tr>\n",
       "  </thead>\n",
       "  <tbody>\n",
       "    <tr>\n",
       "      <th>0</th>\n",
       "      <td>What are the names of some famous actors that ...</td>\n",
       "      <td>Several famous actors started their careers on...</td>\n",
       "      <td>GPT4-Turbo</td>\n",
       "      <td>Some famous actors that started their careers ...</td>\n",
       "      <td>alpaca-7b</td>\n",
       "      <td>alpacaeval-easy</td>\n",
       "      <td>0</td>\n",
       "    </tr>\n",
       "    <tr>\n",
       "      <th>1</th>\n",
       "      <td>How did US states get their names?</td>\n",
       "      <td>The names of U.S. states are derived from a va...</td>\n",
       "      <td>GPT4-Turbo</td>\n",
       "      <td>US states got their names for a variety of rea...</td>\n",
       "      <td>alpaca-7b</td>\n",
       "      <td>alpacaeval-easy</td>\n",
       "      <td>1</td>\n",
       "    </tr>\n",
       "    <tr>\n",
       "      <th>2</th>\n",
       "      <td>Hi, my sister and her girlfriends want me to p...</td>\n",
       "      <td>Kickball is a fun and simple game that is simi...</td>\n",
       "      <td>GPT4-Turbo</td>\n",
       "      <td>Sure! Kickball is a game typically played betw...</td>\n",
       "      <td>alpaca-7b</td>\n",
       "      <td>alpacaeval-easy</td>\n",
       "      <td>2</td>\n",
       "    </tr>\n",
       "    <tr>\n",
       "      <th>3</th>\n",
       "      <td>What is some cool music from the 1920s?</td>\n",
       "      <td>The 1920s, often referred to as the \"Roaring T...</td>\n",
       "      <td>GPT4-Turbo</td>\n",
       "      <td>Some popular music from the 1920s includes jaz...</td>\n",
       "      <td>alpaca-7b</td>\n",
       "      <td>alpacaeval-easy</td>\n",
       "      <td>3</td>\n",
       "    </tr>\n",
       "    <tr>\n",
       "      <th>4</th>\n",
       "      <td>How do I wrap a present neatly?</td>\n",
       "      <td>Wrapping a present neatly can be quite straigh...</td>\n",
       "      <td>GPT4-Turbo</td>\n",
       "      <td>To wrap a present neatly, start by laying the ...</td>\n",
       "      <td>alpaca-7b</td>\n",
       "      <td>alpacaeval-easy</td>\n",
       "      <td>4</td>\n",
       "    </tr>\n",
       "  </tbody>\n",
       "</table>\n",
       "</div>"
      ],
      "text/plain": [
       "                                              prompt  \\\n",
       "0  What are the names of some famous actors that ...   \n",
       "1                 How did US states get their names?   \n",
       "2  Hi, my sister and her girlfriends want me to p...   \n",
       "3            What is some cool music from the 1920s?   \n",
       "4                    How do I wrap a present neatly?   \n",
       "\n",
       "                                              chosen chosen_model  \\\n",
       "0  Several famous actors started their careers on...   GPT4-Turbo   \n",
       "1  The names of U.S. states are derived from a va...   GPT4-Turbo   \n",
       "2  Kickball is a fun and simple game that is simi...   GPT4-Turbo   \n",
       "3  The 1920s, often referred to as the \"Roaring T...   GPT4-Turbo   \n",
       "4  Wrapping a present neatly can be quite straigh...   GPT4-Turbo   \n",
       "\n",
       "                                            rejected rejected_model  \\\n",
       "0  Some famous actors that started their careers ...      alpaca-7b   \n",
       "1  US states got their names for a variety of rea...      alpaca-7b   \n",
       "2  Sure! Kickball is a game typically played betw...      alpaca-7b   \n",
       "3  Some popular music from the 1920s includes jaz...      alpaca-7b   \n",
       "4  To wrap a present neatly, start by laying the ...      alpaca-7b   \n",
       "\n",
       "            subset  id  \n",
       "0  alpacaeval-easy   0  \n",
       "1  alpacaeval-easy   1  \n",
       "2  alpacaeval-easy   2  \n",
       "3  alpacaeval-easy   3  \n",
       "4  alpacaeval-easy   4  "
      ]
     },
     "execution_count": 28,
     "metadata": {},
     "output_type": "execute_result"
    }
   ],
   "source": [
    "rb_pandas.head()"
   ]
  },
  {
   "cell_type": "code",
   "execution_count": null,
   "metadata": {},
   "outputs": [],
   "source": []
  },
  {
   "cell_type": "code",
   "execution_count": 9,
   "metadata": {},
   "outputs": [
    {
     "name": "stdout",
     "output_type": "stream",
     "text": [
      "Loading spacy\n",
      "agency (2146, 2)\n",
      "authority (1737, 2)\n"
     ]
    }
   ],
   "source": [
    "lex = conno.parse_connotation()"
   ]
  },
  {
   "cell_type": "code",
   "execution_count": 14,
   "metadata": {},
   "outputs": [],
   "source": [
    "extracted = extractVerbs(lex, \"This is a sentence zubin, you are running very fast\")"
   ]
  },
  {
   "cell_type": "code",
   "execution_count": 15,
   "metadata": {},
   "outputs": [
    {
     "data": {
      "text/plain": [
       "{'agency_pos': 1.0}"
      ]
     },
     "execution_count": 15,
     "metadata": {},
     "output_type": "execute_result"
    }
   ],
   "source": [
    "extracted"
   ]
  },
  {
   "cell_type": "code",
   "execution_count": 16,
   "metadata": {},
   "outputs": [],
   "source": [
    "# lets define all lex methods:"
   ]
  },
  {
   "cell_type": "code",
   "execution_count": 52,
   "metadata": {},
   "outputs": [
    {
     "name": "stdout",
     "output_type": "stream",
     "text": [
      "Loading spacy\n",
      "agency (2146, 2)\n",
      "Loading spacy\n",
      "authority (1737, 2)\n",
      "{}\n",
      "{'able': ['AGENCY'], 'accomplish*': ['AGENCY'], 'achiev*': ['AGENCY'], 'activ*': ['AGENCY'], 'advance*': ['AGENCY'], 'aggressive': ['AGENCY'], 'ambition*': ['AGENCY'], 'ambitious*': ['AGENCY'], 'assert*': ['AGENCY'], 'attain*': ['AGENCY'], 'authoritative*': ['AGENCY'], 'autonomous*': ['AGENCY'], 'autonomy': ['AGENCY'], 'brave*': ['AGENCY'], 'capab*': ['AGENCY'], 'command*': ['AGENCY'], 'confidence': ['AGENCY'], 'confident': ['AGENCY'], 'control': ['AGENCY'], 'controlling': ['AGENCY'], 'courage*': ['AGENCY'], 'creat*': ['AGENCY'], 'dare*': ['AGENCY'], 'decision*': ['AGENCY'], 'decisive*': ['AGENCY'], 'determin*': ['AGENCY'], 'discover*': ['AGENCY'], 'dominant*': ['AGENCY'], 'dynamic': ['AGENCY'], 'eager*': ['AGENCY'], 'effective*': ['AGENCY'], 'excellent*': ['AGENCY'], 'experience*': ['AGENCY'], 'expert': ['AGENCY'], 'independ*': ['AGENCY'], 'influence': ['AGENCY'], 'inform*': ['AGENCY'], 'intelligence': ['AGENCY'], 'intelligent*': ['AGENCY'], 'intent*': ['AGENCY'], 'know*': ['AGENCY'], 'lead*': ['AGENCY'], 'logic*': ['AGENCY'], 'manager*': ['AGENCY'], 'organized': ['AGENCY'], 'outstanding*': ['AGENCY'], 'overcome': ['AGENCY'], 'power*': ['AGENCY'], 'practic*': ['AGENCY'], 'pride': ['AGENCY'], 'productive*': ['AGENCY'], 'professional*': ['AGENCY'], 'proud*': ['AGENCY'], 'rational*': ['AGENCY'], 'reasoning': ['AGENCY'], 'scientific*': ['AGENCY'], 'skill': ['AGENCY'], 'status': ['AGENCY'], 'strength': ['AGENCY'], 'strong*': ['AGENCY'], 'succeed*': ['AGENCY'], 'success*': ['AGENCY'], 'thought*': ['AGENCY'], 'triumph*': ['AGENCY'], 'affect*': ['COMMUNION'], 'appreciat*': ['COMMUNION'], 'approach*': ['COMMUNION'], 'assist*': ['COMMUNION'], 'benefit': ['COMMUNION'], 'care*': ['COMMUNION'], 'caring*': ['COMMUNION'], 'chat*': ['COMMUNION'], 'close*': ['COMMUNION'], 'commun*': ['COMMUNION'], 'compassion*': ['COMMUNION'], 'considerate*': ['COMMUNION'], 'courteous*': ['COMMUNION'], 'decency': ['COMMUNION'], 'decent*': ['COMMUNION'], 'dialogue*': ['COMMUNION'], 'emotion*': ['COMMUNION'], 'fair*': ['COMMUNION'], 'faith*': ['COMMUNION'], 'friend*': ['COMMUNION'], 'generous*': ['COMMUNION'], 'genteel': ['COMMUNION'], 'gentle*': ['COMMUNION'], 'gently': ['COMMUNION'], 'genuine*': ['COMMUNION'], 'grateful*': ['COMMUNION'], 'help*': ['COMMUNION'], 'honest*': ['COMMUNION'], 'justice': ['COMMUNION'], 'justly': ['COMMUNION'], 'kindly': ['COMMUNION'], 'kindness': ['COMMUNION'], 'love*': ['COMMUNION'], 'loving*': ['COMMUNION'], 'loyal*': ['COMMUNION'], 'mercy': ['COMMUNION'], 'modest*': ['COMMUNION'], 'moral*': ['COMMUNION'], 'open*': ['COMMUNION'], 'patiently': ['COMMUNION'], 'polite*': ['COMMUNION'], 'praise': ['COMMUNION'], 'protect*': ['COMMUNION'], 'righteous*': ['COMMUNION'], 'sense': ['COMMUNION'], 'share': ['COMMUNION'], 'shared': ['COMMUNION'], 'shares': ['COMMUNION'], 'sharing': ['COMMUNION'], 'socia*': ['COMMUNION'], 'solidarity': ['COMMUNION'], 'tact*': ['COMMUNION'], 'talk*': ['COMMUNION'], 'tender*': ['COMMUNION'], 'thank*': ['COMMUNION'], 'together*': ['COMMUNION'], 'tolerance': ['COMMUNION'], 'tolerant*': ['COMMUNION'], 'truth*': ['COMMUNION'], 'understand*': ['COMMUNION'], 'union*': ['COMMUNION'], 'unite*': ['COMMUNION'], 'unity': ['COMMUNION'], 'warm*': ['COMMUNION'], 'yield*': ['COMMUNION']}\n"
     ]
    }
   ],
   "source": [
    "lex_dict = {\n",
    "    \"LIWC 2015\": liwc.parse_liwc(\"2015\"),\n",
    "    # \"NRC EmoLex\": nrc.parse_emolex(),\n",
    "    # \"NRC Hashtag Sentiment\": nrc.parse_hashtagsent(),\n",
    "    # \"NRC VAD\": nrc.parse_valence_aroursal_dominance(),\n",
    "    # \"NRC Optimism/Pessimism\": nrc.parse_opt(),\n",
    "    \"Agency Connotation Frame\": conno.parse_connotation(\"agency\"),\n",
    "    \"Authority Connotation Frame\": conno.parse_connotation(\"authority\"),\n",
    "    \"Gender Decoder Lexicon\": genderJobs.parse_genderdecoder(),\n",
    "    \"Age Gender Lexicon\": ageGender.parse_ageGender(),\n",
    "    \"Concreteness Ratings\": concr.parse(),\n",
    "    \"Moral Foundations\": moralF.parseMF(),\n",
    "    \"Enhanced Moral Foundations\": moralF.parseEnhancedMF(),\n",
    "    \"Mind Perception Dictionary\": mindPercept.parse_mind(),\n",
    "    \"Agency and Communion Dictionary\": agencyComm.load_agency_communion(),\n",
    "    \"Vulnerability Dictionary\": vuln.parse_vulnerability()\n",
    "}\n"
   ]
  },
  {
   "cell_type": "code",
   "execution_count": 53,
   "metadata": {},
   "outputs": [],
   "source": [
    "from collections import defaultdict\n"
   ]
  },
  {
   "cell_type": "code",
   "execution_count": 54,
   "metadata": {},
   "outputs": [],
   "source": [
    "from tqdm.auto import tqdm"
   ]
  },
  {
   "cell_type": "code",
   "execution_count": 55,
   "metadata": {},
   "outputs": [
    {
     "data": {
      "application/vnd.jupyter.widget-view+json": {
       "model_id": "72ca369c481d489eadbdfce12c6ffb13",
       "version_major": 2,
       "version_minor": 0
      },
      "text/plain": [
       "  0%|          | 0/11 [00:00<?, ?it/s]"
      ]
     },
     "metadata": {},
     "output_type": "display_data"
    },
    {
     "data": {
      "application/vnd.jupyter.widget-view+json": {
       "model_id": "21e4c2ba31ff4c449cfd2feefd6aa3c3",
       "version_major": 2,
       "version_minor": 0
      },
      "text/plain": [
       "Processing LIWC 2015:   0%|          | 0/3 [00:00<?, ?it/s]"
      ]
     },
     "metadata": {},
     "output_type": "display_data"
    },
    {
     "data": {
      "application/vnd.jupyter.widget-view+json": {
       "model_id": "797186f4782b4f24bf1eae62b0fb1b90",
       "version_major": 2,
       "version_minor": 0
      },
      "text/plain": [
       "Processing Agency Connotation Frame:   0%|          | 0/3 [00:00<?, ?it/s]"
      ]
     },
     "metadata": {},
     "output_type": "display_data"
    },
    {
     "data": {
      "application/vnd.jupyter.widget-view+json": {
       "model_id": "7f2d7baddb2849e2bb72e4c5c4ddcb50",
       "version_major": 2,
       "version_minor": 0
      },
      "text/plain": [
       "Processing Authority Connotation Frame:   0%|          | 0/3 [00:00<?, ?it/s]"
      ]
     },
     "metadata": {},
     "output_type": "display_data"
    },
    {
     "data": {
      "application/vnd.jupyter.widget-view+json": {
       "model_id": "a4b7fa9d17da45b5b0d2a1372b25d3b9",
       "version_major": 2,
       "version_minor": 0
      },
      "text/plain": [
       "Processing Gender Decoder Lexicon:   0%|          | 0/3 [00:00<?, ?it/s]"
      ]
     },
     "metadata": {},
     "output_type": "display_data"
    },
    {
     "data": {
      "application/vnd.jupyter.widget-view+json": {
       "model_id": "0acb2db478db459dbeed4529bb5973a6",
       "version_major": 2,
       "version_minor": 0
      },
      "text/plain": [
       "Processing Age Gender Lexicon:   0%|          | 0/3 [00:00<?, ?it/s]"
      ]
     },
     "metadata": {},
     "output_type": "display_data"
    },
    {
     "data": {
      "application/vnd.jupyter.widget-view+json": {
       "model_id": "c7b803607a4f4a8fbddf5f851559548c",
       "version_major": 2,
       "version_minor": 0
      },
      "text/plain": [
       "Processing Concreteness Ratings:   0%|          | 0/3 [00:00<?, ?it/s]"
      ]
     },
     "metadata": {},
     "output_type": "display_data"
    },
    {
     "data": {
      "application/vnd.jupyter.widget-view+json": {
       "model_id": "8bfa602388eb49f08fb8bc8b2e403fa4",
       "version_major": 2,
       "version_minor": 0
      },
      "text/plain": [
       "Processing Moral Foundations:   0%|          | 0/3 [00:00<?, ?it/s]"
      ]
     },
     "metadata": {},
     "output_type": "display_data"
    },
    {
     "data": {
      "application/vnd.jupyter.widget-view+json": {
       "model_id": "947ba91c2b2043e2b694358d4c9e55b1",
       "version_major": 2,
       "version_minor": 0
      },
      "text/plain": [
       "Processing Enhanced Moral Foundations:   0%|          | 0/3 [00:00<?, ?it/s]"
      ]
     },
     "metadata": {},
     "output_type": "display_data"
    },
    {
     "data": {
      "application/vnd.jupyter.widget-view+json": {
       "model_id": "d59db799eb3e4106a12c17ce544c736b",
       "version_major": 2,
       "version_minor": 0
      },
      "text/plain": [
       "Processing Mind Perception Dictionary:   0%|          | 0/3 [00:00<?, ?it/s]"
      ]
     },
     "metadata": {},
     "output_type": "display_data"
    },
    {
     "data": {
      "application/vnd.jupyter.widget-view+json": {
       "model_id": "2abeb72d0ff14b188acc2ec4c7ef97aa",
       "version_major": 2,
       "version_minor": 0
      },
      "text/plain": [
       "Processing Agency and Communion Dictionary:   0%|          | 0/3 [00:00<?, ?it/s]"
      ]
     },
     "metadata": {},
     "output_type": "display_data"
    },
    {
     "data": {
      "application/vnd.jupyter.widget-view+json": {
       "model_id": "a626699b675b4a5484a217f59009af71",
       "version_major": 2,
       "version_minor": 0
      },
      "text/plain": [
       "Processing Vulnerability Dictionary:   0%|          | 0/3 [00:00<?, ?it/s]"
      ]
     },
     "metadata": {},
     "output_type": "display_data"
    }
   ],
   "source": [
    "# ret_dict = defaultdict(dict)\n",
    "new_ret_dict = defaultdict(dict)\n",
    "for lex_name, lex in tqdm(lex_dict.items()):\n",
    "    for cname in tqdm(['prompt', 'chosen', 'rejected'], leave=False, desc=f\"Processing {lex_name}\"):\n",
    "        new_ret_dict[lex_name][cname] = rb_pandas[cname].apply(lambda x: extract(lex, x))"
   ]
  },
  {
   "cell_type": "code",
   "execution_count": 57,
   "metadata": {},
   "outputs": [
    {
     "data": {
      "text/html": [
       "<div>\n",
       "<style scoped>\n",
       "    .dataframe tbody tr th:only-of-type {\n",
       "        vertical-align: middle;\n",
       "    }\n",
       "\n",
       "    .dataframe tbody tr th {\n",
       "        vertical-align: top;\n",
       "    }\n",
       "\n",
       "    .dataframe thead th {\n",
       "        text-align: right;\n",
       "    }\n",
       "</style>\n",
       "<table border=\"1\" class=\"dataframe\">\n",
       "  <thead>\n",
       "    <tr style=\"text-align: right;\">\n",
       "      <th></th>\n",
       "      <th>LIWC 2015</th>\n",
       "      <th>Agency Connotation Frame</th>\n",
       "      <th>Authority Connotation Frame</th>\n",
       "      <th>Gender Decoder Lexicon</th>\n",
       "      <th>Age Gender Lexicon</th>\n",
       "      <th>Concreteness Ratings</th>\n",
       "      <th>Moral Foundations</th>\n",
       "      <th>Enhanced Moral Foundations</th>\n",
       "      <th>Mind Perception Dictionary</th>\n",
       "      <th>Agency and Communion Dictionary</th>\n",
       "      <th>Vulnerability Dictionary</th>\n",
       "    </tr>\n",
       "  </thead>\n",
       "  <tbody>\n",
       "    <tr>\n",
       "      <th>prompt</th>\n",
       "      <td>0       {'leisure': 0.14285714285714285, 'func...</td>\n",
       "      <td>0                                             ...</td>\n",
       "      <td>0                                             ...</td>\n",
       "      <td>0       {}\n",
       "1       {}\n",
       "2       {}\n",
       "3       {}\n",
       "4 ...</td>\n",
       "      <td>0       {'age': -9.27806810470407, 'gender': -...</td>\n",
       "      <td>0       {'concreteness': 0.19178571428571425}\n",
       "...</td>\n",
       "      <td>0                                             ...</td>\n",
       "      <td>0                                             ...</td>\n",
       "      <td>0       {'MindOverall': 0.07142857142857142, '...</td>\n",
       "      <td>0       {'COMMUNION': 0.07142857142857142}\n",
       "1  ...</td>\n",
       "      <td>0                                          {}\n",
       "...</td>\n",
       "    </tr>\n",
       "    <tr>\n",
       "      <th>chosen</th>\n",
       "      <td>0       {'function': 0.39775910364145656, 'art...</td>\n",
       "      <td>0       {'agency_pos': 0.04201680672268908, 'a...</td>\n",
       "      <td>0       {'authority_agent': 0.0224089635854341...</td>\n",
       "      <td>0       {'masculine': 0.0028011204481792717, '...</td>\n",
       "      <td>0       {'age': -6.470119269862604, 'gender': ...</td>\n",
       "      <td>0        {'concreteness': 0.2562254901960784}\n",
       "...</td>\n",
       "      <td>0       {'AuthorityVirtue': 0.0028011204481792...</td>\n",
       "      <td>0       {'FairnessVirtue': 0.01680672268907563...</td>\n",
       "      <td>0       {'MindOverall': 0.014005602240896359, ...</td>\n",
       "      <td>0       {'AGENCY': 0.011204481792717087, 'COMM...</td>\n",
       "      <td>0        {'incompetence': 0.014005602240896359...</td>\n",
       "    </tr>\n",
       "    <tr>\n",
       "      <th>rejected</th>\n",
       "      <td>0       {'leisure': 0.09523809523809523, 'func...</td>\n",
       "      <td>0                    {'agency_pos': 0.04761904...</td>\n",
       "      <td>0               {'authority_agent': 0.04761904...</td>\n",
       "      <td>0                                        {}\n",
       "1 ...</td>\n",
       "      <td>0       {'age': -5.426388530821287, 'gender': ...</td>\n",
       "      <td>0       {'concreteness': 0.15047619047619049}\n",
       "...</td>\n",
       "      <td>0                                             ...</td>\n",
       "      <td>0       {'FairnessVirtue': 0.04761904761904761...</td>\n",
       "      <td>0       {'MindOverall': 0.047619047619047616, ...</td>\n",
       "      <td>0       {'COMMUNION': 0.047619047619047616}\n",
       "1 ...</td>\n",
       "      <td>0                                           {}...</td>\n",
       "    </tr>\n",
       "  </tbody>\n",
       "</table>\n",
       "</div>"
      ],
      "text/plain": [
       "                                                  LIWC 2015  \\\n",
       "prompt    0       {'leisure': 0.14285714285714285, 'func...   \n",
       "chosen    0       {'function': 0.39775910364145656, 'art...   \n",
       "rejected  0       {'leisure': 0.09523809523809523, 'func...   \n",
       "\n",
       "                                   Agency Connotation Frame  \\\n",
       "prompt    0                                             ...   \n",
       "chosen    0       {'agency_pos': 0.04201680672268908, 'a...   \n",
       "rejected  0                    {'agency_pos': 0.04761904...   \n",
       "\n",
       "                                Authority Connotation Frame  \\\n",
       "prompt    0                                             ...   \n",
       "chosen    0       {'authority_agent': 0.0224089635854341...   \n",
       "rejected  0               {'authority_agent': 0.04761904...   \n",
       "\n",
       "                                     Gender Decoder Lexicon  \\\n",
       "prompt    0       {}\n",
       "1       {}\n",
       "2       {}\n",
       "3       {}\n",
       "4 ...   \n",
       "chosen    0       {'masculine': 0.0028011204481792717, '...   \n",
       "rejected  0                                        {}\n",
       "1 ...   \n",
       "\n",
       "                                         Age Gender Lexicon  \\\n",
       "prompt    0       {'age': -9.27806810470407, 'gender': -...   \n",
       "chosen    0       {'age': -6.470119269862604, 'gender': ...   \n",
       "rejected  0       {'age': -5.426388530821287, 'gender': ...   \n",
       "\n",
       "                                       Concreteness Ratings  \\\n",
       "prompt    0       {'concreteness': 0.19178571428571425}\n",
       "...   \n",
       "chosen    0        {'concreteness': 0.2562254901960784}\n",
       "...   \n",
       "rejected  0       {'concreteness': 0.15047619047619049}\n",
       "...   \n",
       "\n",
       "                                          Moral Foundations  \\\n",
       "prompt    0                                             ...   \n",
       "chosen    0       {'AuthorityVirtue': 0.0028011204481792...   \n",
       "rejected  0                                             ...   \n",
       "\n",
       "                                 Enhanced Moral Foundations  \\\n",
       "prompt    0                                             ...   \n",
       "chosen    0       {'FairnessVirtue': 0.01680672268907563...   \n",
       "rejected  0       {'FairnessVirtue': 0.04761904761904761...   \n",
       "\n",
       "                                 Mind Perception Dictionary  \\\n",
       "prompt    0       {'MindOverall': 0.07142857142857142, '...   \n",
       "chosen    0       {'MindOverall': 0.014005602240896359, ...   \n",
       "rejected  0       {'MindOverall': 0.047619047619047616, ...   \n",
       "\n",
       "                            Agency and Communion Dictionary  \\\n",
       "prompt    0       {'COMMUNION': 0.07142857142857142}\n",
       "1  ...   \n",
       "chosen    0       {'AGENCY': 0.011204481792717087, 'COMM...   \n",
       "rejected  0       {'COMMUNION': 0.047619047619047616}\n",
       "1 ...   \n",
       "\n",
       "                                   Vulnerability Dictionary  \n",
       "prompt    0                                          {}\n",
       "...  \n",
       "chosen    0        {'incompetence': 0.014005602240896359...  \n",
       "rejected  0                                           {}...  "
      ]
     },
     "execution_count": 57,
     "metadata": {},
     "output_type": "execute_result"
    }
   ],
   "source": [
    "# ret_dict\n"
   ]
  },
  {
   "cell_type": "code",
   "execution_count": 65,
   "metadata": {},
   "outputs": [],
   "source": [
    "from copy import deepcopy"
   ]
  },
  {
   "cell_type": "code",
   "execution_count": 66,
   "metadata": {},
   "outputs": [],
   "source": [
    "transform_dict = deepcopy(new_ret_dict)"
   ]
  },
  {
   "cell_type": "code",
   "execution_count": 67,
   "metadata": {},
   "outputs": [],
   "source": [
    "for key in transform_dict.keys():\n",
    "    for cname in transform_dict[key].keys():\n",
    "        transform_dict[key][cname] = transform_dict[key][cname].tolist()"
   ]
  },
  {
   "cell_type": "code",
   "execution_count": 70,
   "metadata": {},
   "outputs": [],
   "source": [
    "with open (\"./lexica.json\", \"w\") as f:\n",
    "    json.dump(transform_dict, f)"
   ]
  },
  {
   "cell_type": "code",
   "execution_count": 80,
   "metadata": {},
   "outputs": [],
   "source": [
    "emolex = ret_dict['NRC EmoLex']"
   ]
  },
  {
   "cell_type": "code",
   "execution_count": 81,
   "metadata": {},
   "outputs": [],
   "source": [
    "for key in emolex:\n",
    "    emolex[key] = emolex[key].tolist()"
   ]
  },
  {
   "cell_type": "code",
   "execution_count": 82,
   "metadata": {},
   "outputs": [],
   "source": [
    "with open(\"./emolex.json\", 'w') as f:\n",
    "    json.dump(emolex, f)"
   ]
  },
  {
   "cell_type": "code",
   "execution_count": 90,
   "metadata": {},
   "outputs": [
    {
     "data": {
      "text/html": [
       "<div>\n",
       "<style scoped>\n",
       "    .dataframe tbody tr th:only-of-type {\n",
       "        vertical-align: middle;\n",
       "    }\n",
       "\n",
       "    .dataframe tbody tr th {\n",
       "        vertical-align: top;\n",
       "    }\n",
       "\n",
       "    .dataframe thead th {\n",
       "        text-align: right;\n",
       "    }\n",
       "</style>\n",
       "<table border=\"1\" class=\"dataframe\">\n",
       "  <thead>\n",
       "    <tr style=\"text-align: right;\">\n",
       "      <th></th>\n",
       "      <th>anger</th>\n",
       "      <th>anticipation</th>\n",
       "      <th>disgust</th>\n",
       "      <th>fear</th>\n",
       "      <th>joy</th>\n",
       "      <th>negative</th>\n",
       "      <th>positive</th>\n",
       "      <th>sadness</th>\n",
       "      <th>surprise</th>\n",
       "      <th>trust</th>\n",
       "    </tr>\n",
       "  </thead>\n",
       "  <tbody>\n",
       "    <tr>\n",
       "      <th>count</th>\n",
       "      <td>525.000000</td>\n",
       "      <td>333.000000</td>\n",
       "      <td>286.000000</td>\n",
       "      <td>475.000000</td>\n",
       "      <td>330.000000</td>\n",
       "      <td>393.000000</td>\n",
       "      <td>170.000000</td>\n",
       "      <td>403.000000</td>\n",
       "      <td>378.000000</td>\n",
       "      <td>269.000000</td>\n",
       "    </tr>\n",
       "    <tr>\n",
       "      <th>mean</th>\n",
       "      <td>-0.006974</td>\n",
       "      <td>-0.002309</td>\n",
       "      <td>-0.006406</td>\n",
       "      <td>-0.006785</td>\n",
       "      <td>-0.004042</td>\n",
       "      <td>-0.007314</td>\n",
       "      <td>0.001942</td>\n",
       "      <td>-0.006236</td>\n",
       "      <td>-0.002979</td>\n",
       "      <td>-0.002661</td>\n",
       "    </tr>\n",
       "    <tr>\n",
       "      <th>std</th>\n",
       "      <td>-0.024301</td>\n",
       "      <td>-0.008797</td>\n",
       "      <td>-0.026317</td>\n",
       "      <td>-0.014632</td>\n",
       "      <td>-0.020240</td>\n",
       "      <td>-0.027246</td>\n",
       "      <td>-0.019306</td>\n",
       "      <td>-0.028740</td>\n",
       "      <td>-0.008846</td>\n",
       "      <td>-0.021816</td>\n",
       "    </tr>\n",
       "    <tr>\n",
       "      <th>min</th>\n",
       "      <td>0.000633</td>\n",
       "      <td>0.000136</td>\n",
       "      <td>0.000317</td>\n",
       "      <td>0.000673</td>\n",
       "      <td>0.001107</td>\n",
       "      <td>0.000587</td>\n",
       "      <td>0.001608</td>\n",
       "      <td>0.000620</td>\n",
       "      <td>0.000614</td>\n",
       "      <td>0.001434</td>\n",
       "    </tr>\n",
       "    <tr>\n",
       "      <th>25%</th>\n",
       "      <td>-0.001970</td>\n",
       "      <td>0.000212</td>\n",
       "      <td>-0.001536</td>\n",
       "      <td>-0.001532</td>\n",
       "      <td>0.000134</td>\n",
       "      <td>-0.000369</td>\n",
       "      <td>0.008038</td>\n",
       "      <td>-0.000987</td>\n",
       "      <td>-0.000956</td>\n",
       "      <td>0.002524</td>\n",
       "    </tr>\n",
       "    <tr>\n",
       "      <th>50%</th>\n",
       "      <td>-0.004070</td>\n",
       "      <td>-0.000120</td>\n",
       "      <td>-0.003212</td>\n",
       "      <td>-0.004375</td>\n",
       "      <td>0.000203</td>\n",
       "      <td>-0.002786</td>\n",
       "      <td>0.006262</td>\n",
       "      <td>-0.002319</td>\n",
       "      <td>-0.001768</td>\n",
       "      <td>0.001812</td>\n",
       "    </tr>\n",
       "    <tr>\n",
       "      <th>75%</th>\n",
       "      <td>-0.008075</td>\n",
       "      <td>-0.002529</td>\n",
       "      <td>-0.003498</td>\n",
       "      <td>-0.007545</td>\n",
       "      <td>-0.003136</td>\n",
       "      <td>-0.006844</td>\n",
       "      <td>0.004482</td>\n",
       "      <td>-0.004713</td>\n",
       "      <td>-0.004004</td>\n",
       "      <td>-0.000593</td>\n",
       "    </tr>\n",
       "    <tr>\n",
       "      <th>max</th>\n",
       "      <td>-0.777778</td>\n",
       "      <td>-0.500000</td>\n",
       "      <td>-0.500000</td>\n",
       "      <td>-0.666667</td>\n",
       "      <td>-0.500000</td>\n",
       "      <td>-0.500000</td>\n",
       "      <td>-0.250000</td>\n",
       "      <td>-0.700000</td>\n",
       "      <td>-0.500000</td>\n",
       "      <td>-0.666667</td>\n",
       "    </tr>\n",
       "  </tbody>\n",
       "</table>\n",
       "</div>"
      ],
      "text/plain": [
       "            anger  anticipation     disgust        fear         joy  \\\n",
       "count  525.000000    333.000000  286.000000  475.000000  330.000000   \n",
       "mean    -0.006974     -0.002309   -0.006406   -0.006785   -0.004042   \n",
       "std     -0.024301     -0.008797   -0.026317   -0.014632   -0.020240   \n",
       "min      0.000633      0.000136    0.000317    0.000673    0.001107   \n",
       "25%     -0.001970      0.000212   -0.001536   -0.001532    0.000134   \n",
       "50%     -0.004070     -0.000120   -0.003212   -0.004375    0.000203   \n",
       "75%     -0.008075     -0.002529   -0.003498   -0.007545   -0.003136   \n",
       "max     -0.777778     -0.500000   -0.500000   -0.666667   -0.500000   \n",
       "\n",
       "         negative    positive     sadness    surprise       trust  \n",
       "count  393.000000  170.000000  403.000000  378.000000  269.000000  \n",
       "mean    -0.007314    0.001942   -0.006236   -0.002979   -0.002661  \n",
       "std     -0.027246   -0.019306   -0.028740   -0.008846   -0.021816  \n",
       "min      0.000587    0.001608    0.000620    0.000614    0.001434  \n",
       "25%     -0.000369    0.008038   -0.000987   -0.000956    0.002524  \n",
       "50%     -0.002786    0.006262   -0.002319   -0.001768    0.001812  \n",
       "75%     -0.006844    0.004482   -0.004713   -0.004004   -0.000593  \n",
       "max     -0.500000   -0.250000   -0.700000   -0.500000   -0.666667  "
      ]
     },
     "execution_count": 90,
     "metadata": {},
     "output_type": "execute_result"
    }
   ],
   "source": [
    "pd.DataFrame(emolex['chosen']).describe() - pd.DataFrame(emolex['rejected']).describe()"
   ]
  },
  {
   "cell_type": "code",
   "execution_count": null,
   "metadata": {},
   "outputs": [],
   "source": []
  }
 ],
 "metadata": {
  "kernelspec": {
   "display_name": "llms",
   "language": "python",
   "name": "python3"
  },
  "language_info": {
   "codemirror_mode": {
    "name": "ipython",
    "version": 3
   },
   "file_extension": ".py",
   "mimetype": "text/x-python",
   "name": "python",
   "nbconvert_exporter": "python",
   "pygments_lexer": "ipython3",
   "version": "3.11.2"
  }
 },
 "nbformat": 4,
 "nbformat_minor": 2
}
